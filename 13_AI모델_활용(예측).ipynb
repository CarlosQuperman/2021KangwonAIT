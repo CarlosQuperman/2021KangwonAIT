{
  "nbformat": 4,
  "nbformat_minor": 0,
  "metadata": {
    "colab": {
      "name": "13. AI모델 활용(예측)",
      "provenance": [],
      "collapsed_sections": []
    },
    "kernelspec": {
      "name": "python3",
      "display_name": "Python 3"
    },
    "language_info": {
      "name": "python"
    }
  },
  "cells": [
    {
      "cell_type": "markdown",
      "metadata": {
        "id": "PgqeYl-xLXaB"
      },
      "source": [
        "### 선을 그리는 방법!\n",
        "- Y = ax + b의 형식을 사용한다면\n",
        "- 우리는 선을 그릴 수 있다."
      ]
    },
    {
      "cell_type": "code",
      "metadata": {
        "id": "C2j7v6XuMjMX"
      },
      "source": [
        "for i in range(10): #10번 동안 : 밑에 있는 안에 들어간 내용을 10번 반복한다. 이때 i는 0~9가 된다.\n",
        "  print(i)"
      ],
      "execution_count": null,
      "outputs": []
    },
    {
      "cell_type": "code",
      "metadata": {
        "colab": {
          "base_uri": "https://localhost:8080/",
          "height": 298
        },
        "id": "ZEuGAoMSMAR1",
        "outputId": "04b59d79-554d-4cce-d75c-c0c6e61dce37"
      },
      "source": [
        "import matplotlib.pyplot as plt #시각화를 위한 라이브러리(프로그래밍 도구집)\n",
        "\n",
        "X = [1,2,3,4] #[] 리스트 여러개의 값을 이름 하나로 관리할 때\n",
        "Y = []\n",
        "\n",
        "a = \n",
        "b = \n",
        "\n",
        "for i in range(len(X)):  #len -> length (X)의 길이만큼 반복하며 i는 0~n-1\n",
        "  Y.append(X[i]*a + b) ##for ~하는 동안 안쪽에 있는 내용을 반복한다\n",
        "\n",
        "plt.title(\"line\")\n",
        "plt.plot(X,Y)"
      ],
      "execution_count": 3,
      "outputs": [
        {
          "output_type": "execute_result",
          "data": {
            "text/plain": [
              "[<matplotlib.lines.Line2D at 0x7f4eabd40c50>]"
            ]
          },
          "metadata": {
            "tags": []
          },
          "execution_count": 3
        },
        {
          "output_type": "display_data",
          "data": {
            "image/png": "[encoded data removed]",
            "text/plain": [
              "<Figure size 432x288 with 1 Axes>"
            ]
          },
          "metadata": {
            "tags": [],
            "needs_background": "light"
          }
        }
      ]
    },
    {
      "cell_type": "markdown",
      "metadata": {
        "id": "Hs1e6pCjM2hK"
      },
      "source": [
        "### 수행평가 점수를 구하는 선형회귀\n",
        "\n",
        "- 입력값 X와 조건이 주어졌을 때\n",
        "- 원하는 결과 Y를 구하기 위해 a와 b는 무엇이 되어야 할까?"
      ]
    },
    {
      "cell_type": "code",
      "metadata": {
        "colab": {
          "base_uri": "https://localhost:8080/",
          "height": 318
        },
        "id": "-aSNZhzzdMDT",
        "outputId": "ae6883a4-b349-484f-c2b2-142c5453020c"
      },
      "source": [
        "# 총점 Y는 100점인 수행평가 \n",
        "# 10개의 과제가 주어지며 입력 X는 학생이 해결한 과제의 수 \n",
        "# 기본점수는 50점 \n",
        "\n",
        "\n",
        "X = [3,4,5,1,2,7,8,9,10]\n",
        "Y = []\n",
        "\n",
        "a = \n",
        "b = 50\n",
        "\n",
        "for i in range(len(X)):\n",
        "  Y.append(X[i]*a + b)\n",
        "\n",
        "\n",
        "plt.title(\"Score\")\n",
        "plt.plot(X,Y)\n",
        "print(X)\n",
        "print(Y)\n"
      ],
      "execution_count": null,
      "outputs": [
        {
          "output_type": "stream",
          "text": [
            "[3, 4, 5, 1, 2, 7, 8, 9, 10]\n",
            "[65, 70, 75, 55, 60, 85, 90, 95, 100]\n"
          ],
          "name": "stdout"
        },
        {
          "output_type": "display_data",
          "data": {
            "image/png": "[encoded data removed]",
            "text/plain": [
              "<Figure size 432x288 with 1 Axes>"
            ]
          },
          "metadata": {
            "tags": [],
            "needs_background": "light"
          }
        }
      ]
    },
    {
      "cell_type": "markdown",
      "metadata": {
        "id": "Eg7Uz_RcNhYW"
      },
      "source": [
        "### 임의의 a,b 값 설정\n",
        "\n",
        "- 해결한 과제 점수를 입력하면 정확한 수행평가 점수를 구할 수 있도록\n",
        "- 임의의 a와 b를 설정해보자.\n",
        "- 이때 가지고 있는 것은 학생이 해결한 과제의 수 X와 수행평가 점수 Y이다."
      ]
    },
    {
      "cell_type": "code",
      "metadata": {
        "colab": {
          "base_uri": "https://localhost:8080/"
        },
        "id": "RmOl35mWgocZ",
        "outputId": "03b3738f-5b8b-42ed-fb8c-f6e1253dd03f"
      },
      "source": [
        "X = [3, 4, 5, 1, 2, 7, 8, 9, 10]\n",
        "Y = [65, 70, 75, 55, 60, 85, 90, 95, 100]\n",
        "Y_predict = []\n",
        "\n",
        "a = 3\n",
        "b = 30\n",
        "\n",
        "for i in range(len(X)):\n",
        "  Y_predict.append(a*X[i] + b)\n",
        "\n",
        "\n",
        "print(\"실제값 : \", Y)\n",
        "print(\"예측값 : \",Y_predict)\n",
        "\n"
      ],
      "execution_count": 5,
      "outputs": [
        {
          "output_type": "stream",
          "text": [
            "실제값 :  [65, 70, 75, 55, 60, 85, 90, 95, 100]\n",
            "예측값 :  [39, 42, 45, 33, 36, 51, 54, 57, 60]\n"
          ],
          "name": "stdout"
        }
      ]
    },
    {
      "cell_type": "markdown",
      "metadata": {
        "id": "Zy4G1gGvP3-S"
      },
      "source": [
        "### 채점을 통한 오차 구하기\n",
        "\n",
        "- 문제와 답이 있으면 채점을 할 수 있다.\n",
        "- 채점을 통해 현재의 a와 b가 얼마나 틀렸는지 구할 수 있다.\n",
        "- 얼마나 틀렸는지를 나타내는 대표적인 지표가 평균제곱오차(MSE)이다."
      ]
    },
    {
      "cell_type": "code",
      "metadata": {
        "colab": {
          "base_uri": "https://localhost:8080/"
        },
        "id": "GJLq1ILZnyGn",
        "outputId": "c2978483-ce41-4891-ce2c-590fc1ff7c26"
      },
      "source": [
        "# 구글 Colab에서 실행 결과는 누적되어 나타난다.\n",
        "# 나중에 이 코드만 실행시키더라도 바로 결과가 나오지는 않는다.\n",
        "\n",
        "error = 0.0\n",
        "n = len(X)\n",
        "\n",
        "for i in range(n):\n",
        "  error = error + ((Y[i]-Y_predict[i])**2)\n",
        "\n",
        "print(\"총 오차 :\",error)\n",
        "print(\"평균 제곱 오차(MSE) :\",error/n)\n",
        "\n",
        "#선형회귀에서의 학습은 평균 제곱 오차를 0으로 만드는 방향으로 이루어져야 하며\n",
        "#이를 통해 최적의 a와 b를 구할 수 있다!\n"
      ],
      "execution_count": 6,
      "outputs": [
        {
          "output_type": "stream",
          "text": [
            "총 오차 : 8916.0\n",
            "평균 제곱 오차(MSE) : 990.6666666666666\n"
          ],
          "name": "stdout"
        }
      ]
    },
    {
      "cell_type": "code",
      "metadata": {
        "id": "Tl2vb8Kvn_zo"
      },
      "source": [
        "# 수행평가 영역이 3개이고 지필 고사를 1회 실행하며 환산총점은 100이라 할 때 \n",
        "# 영역 3개의 점수(100점 만점)와 환산총점이 주어졌을 때 a와 b를 구하면 다중 선형 회귀 문제를 해결할 수 있다.\n",
        "\n",
        "X_1 = [80,80,80,80]\n",
        "X_2 = [83,95,95,95]\n",
        "X_3 = [67,67,55,65]\n",
        "X_4 = [53.1,43.1,45.7,38.9]\n",
        "Y = [66.84,65.24,64.28,63.56]\n",
        "\n",
        "a1 = 0 #영역1의 반영비율 \n",
        "a2 = 0 #영역2의 반영비율\n",
        "a3 = 0 #영역3의 반영비율\n",
        "a4 = 0 #지필고사의 반영비율\n",
        "b = 0 # 절편\n",
        "\n",
        "Y = a1 * X_1 + a2 * X_2 + a3*X_3 + a4*X_4 + b\n",
        "\n",
        "\n",
        "\n",
        "# 관측된 입력값 X와 출력값 Y를 통해 a와 b를 구하고 이를 적용하여 새로운 입력값이 주어졌을 때 정확한(훌륭한) Y값을 구하는 것이 선형 회귀의 목적이다!"
      ],
      "execution_count": null,
      "outputs": []
    },
    {
      "cell_type": "markdown",
      "metadata": {
        "id": "Tif1TuXcQ3df"
      },
      "source": [
        "### 사이킷런, 넘파이, 맷플롯라이브러리를 이용한 단순 선형회귀\n",
        "\n",
        "- 해결한 과제 입력값 X와 점수 Y가 주어졌을 때\n",
        "- 이를 가장 잘 설명, 예측하는 선을 구해보자.\n",
        "- 이를 위해서는 a와 b를 구해야 한다."
      ]
    },
    {
      "cell_type": "code",
      "metadata": {
        "id": "nWLV_MKb2ch1"
      },
      "source": [
        "from sklearn.linear_model import LinearRegression\n",
        "import matplotlib.pyplot as plt\n",
        "import numpy as np\n",
        "\n",
        "#10개의 과제 기본점수 50점 예제 \n",
        "\n",
        "X = [3, 4, 5, 1, 2, 7, 8, 9, 10]\n",
        "Y = [65, 70, 75, 55, 60, 85, 90, 95, 100]\n",
        "\n",
        "X = np.asarray(X) #리스트 X를 넘파이 형태로 전환해줌\n",
        "X = X.reshape(-1,1) #X의 형태를 2차원 벡터로 바꿔줌\n",
        "print(X)\n",
        "\n",
        "line_fitter = () ###선형회귀 학습을 가능하게 하는 내용을 line_fitter에 저장해줌\n",
        "line_fitter.fit(,) ###입력값과 출력값을 전달하여 학습이 이루어지게 함\n",
        "\n",
        "print(line_fitter.predict([[]]))\n",
        "\n",
        "print(\"기울기 a값 :\",line_fitter.coef_)\n",
        "print(\"절편 b값 : \",line_fitter.intercept_)\n",
        "\n"
      ],
      "execution_count": null,
      "outputs": []
    },
    {
      "cell_type": "markdown",
      "metadata": {
        "id": "47JY311yRh93"
      },
      "source": [
        "### 사이킷런, 넘파이, 맷플롯라이브러리, 판다스를 이용한 다중 선형회귀\n",
        "\n",
        "- Github에 탑재된 score.csv 파일을 이용하여 \n",
        "- X를 '수행1', '수행2', '수행3','지필' 입력값으로\n",
        "- Y를 총점으로 설정한 후 결과를 확인해보자.\n"
      ]
    },
    {
      "cell_type": "code",
      "metadata": {
        "id": "IW7fiasm745s"
      },
      "source": [
        "from sklearn.linear_model import LinearRegression\n",
        "import matplotlib.pyplot as plt\n",
        "import numpy as np\n",
        "import pandas as pd\n",
        "\n",
        "score_df = pd.read_csv(\"https://raw.githubusercontent.com/CarlosQuperman/2021KangwonAIT/main/score.csv\") #score_df에 판다스 데이터프레임 형식으로 csv파일을 읽어옴\n",
        "print(score_df.info()) #score_df의 형태를 출력해줌 \n",
        "score_df.head() #score_df의 맨앞에서 5개의 값을 표시해줌\n",
        "\n",
        "X = score_df[['','수행2','','지필']]\n",
        "Y = score_df[['총점']]\n",
        "\n",
        "line_fitter = LinearRegression()\n",
        "line_fitter.fit(X,Y)\n",
        "\n",
        "print(\"기울기 a값 :\",line_fitter.coef_)\n",
        "print(\"절편 b값 : \",line_fitter.intercept_)\n",
        "\n",
        "print(line_fitter.predict([[,,,]]))"
      ],
      "execution_count": null,
      "outputs": []
    }
  ]
}