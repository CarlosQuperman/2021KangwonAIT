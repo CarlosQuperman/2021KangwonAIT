{
  "nbformat": 4,
  "nbformat_minor": 0,
  "metadata": {
    "colab": {
      "name": "14분류 ",
      "provenance": [],
      "collapsed_sections": []
    },
    "kernelspec": {
      "name": "python3",
      "display_name": "Python 3"
    },
    "language_info": {
      "name": "python"
    }
  },
  "cells": [
    {
      "cell_type": "markdown",
      "metadata": {
        "id": "Y9CbzwgbIt3g"
      },
      "source": [
        "### 테스트\n",
        "\n",
        "은ㄹ아ㅡㄴㄹ아ㅡㄴㄹ아ㅡ"
      ]
    },
    {
      "cell_type": "code",
      "metadata": {
        "colab": {
          "base_uri": "https://localhost:8080/",
          "height": 318
        },
        "id": "-aSNZhzzdMDT",
        "outputId": "ae6883a4-b349-484f-c2b2-142c5453020c"
      },
      "source": [
        "# 총점 Y는 100점인 수행평가 \n",
        "# 10개의 과제가 주어지며 입력 X는 학생이 해결한 과제의 수 \n",
        "# 기본점수는 50점 \n",
        "\n",
        "\n",
        "X = [3,4,5,1,2,7,8,9,10]\n",
        "Y = []\n",
        "\n",
        "a = \n",
        "b = 50\n",
        "\n",
        "for i in range(len(X)):\n",
        "  Y.append(X[i]*a + b)\n",
        "\n",
        "\n",
        "plt.title(\"Score\")\n",
        "plt.plot(X,Y)\n",
        "print(X)\n",
        "print(Y)\n"
      ],
      "execution_count": null,
      "outputs": [
        {
          "output_type": "stream",
          "text": [
            "[3, 4, 5, 1, 2, 7, 8, 9, 10]\n",
            "[65, 70, 75, 55, 60, 85, 90, 95, 100]\n"
          ],
          "name": "stdout"
        },
        {
          "output_type": "display_data",
          "data": {
            "image/png": "[encoded data removed]",
            "text/plain": [
              "<Figure size 432x288 with 1 Axes>"
            ]
          },
          "metadata": {
            "tags": [],
            "needs_background": "light"
          }
        }
      ]
    },
    {
      "cell_type": "code",
      "metadata": {
        "colab": {
          "base_uri": "https://localhost:8080/"
        },
        "id": "RmOl35mWgocZ",
        "outputId": "ad8215b0-ec9a-476d-f53e-893f3ff6aea1"
      },
      "source": [
        "X = [3, 4, 5, 1, 2, 7, 8, 9, 10]\n",
        "Y = [65, 70, 75, 55, 60, 85, 90, 95, 100]\n",
        "Y_predict = []\n",
        "\n",
        "a = 3\n",
        "b = 30\n",
        "\n",
        "for i in range(len(X)):\n",
        "  Y_predict.append(a*X[i] + b)\n",
        "\n",
        "\n",
        "print(Y)\n",
        "print(Y_predict)\n",
        "\n"
      ],
      "execution_count": null,
      "outputs": [
        {
          "output_type": "stream",
          "text": [
            "[65, 70, 75, 55, 60, 85, 90, 95, 100]\n",
            "[39, 42, 45, 33, 36, 51, 54, 57, 60]\n"
          ],
          "name": "stdout"
        }
      ]
    },
    {
      "cell_type": "code",
      "metadata": {
        "colab": {
          "base_uri": "https://localhost:8080/"
        },
        "id": "GJLq1ILZnyGn",
        "outputId": "094b639f-344a-4f68-b6f9-5a1ed25974cc"
      },
      "source": [
        "error = 0.0\n",
        "n = len(X)\n",
        "\n",
        "for i in range(n):\n",
        "  error = error + ((Y[i]-Y_predict[i])**2)\n",
        "\n",
        "print(\"총 오차 :\",error)\n",
        "print(\"평균 제곱 오차(MSE) :\",error/n)\n",
        "\n",
        "#선형회귀에서의 학습은 평균 제곱 오차를 0으로 만드는 방향으로 이루어져야 하며\n",
        "#이를 통해 최적의 a와 b를 구할 수 있다!\n"
      ],
      "execution_count": null,
      "outputs": [
        {
          "output_type": "stream",
          "text": [
            "총 오차 : 8916.0\n",
            "평균 제곱 오차(MSE) : 990.6666666666666\n"
          ],
          "name": "stdout"
        }
      ]
    },
    {
      "cell_type": "code",
      "metadata": {
        "colab": {
          "base_uri": "https://localhost:8080/"
        },
        "id": "Tl2vb8Kvn_zo",
        "outputId": "53f9879c-ac0e-44c9-edca-bb2d5366fe4f"
      },
      "source": [
        "# 수행평가 영역이 3개이고 지필 고사를 1회 실행하며 환산총점은 100이라 할 때 \n",
        "# 영역 3개의 점수(100점 만점)와 환산총점이 주어졌을 때 a와 b를 구하면 다중 선형 회귀 문제를 해결할 수 있다.\n",
        "\n",
        "X_1 = [80,80,80,80]\n",
        "X_2 = [83,95,95,95]\n",
        "X_3 = [67,67,55,65]\n",
        "X_4 = [53.1,43.1,45.7,38.9]\n",
        "Y = [66.84,65.24,64.28,63.56]\n",
        "\n",
        "a1 = 0 #영역1의 반영비율 \n",
        "a2 = 0 #영역2의 반영비율\n",
        "a3 = 0 #영역3의 반영비율\n",
        "a4 = 0 #지필고사의 반영비율\n",
        "b = 0 # 절편\n",
        "\n",
        "Y = a1 * X_1 + a2 * X_2 + a3*X_3 + a4*X_4 + b\n",
        "\n",
        "\n",
        "# 관측된 입력값 X와 출력값 Y를 통해 a와 b를 구하고 이를 적용하여 새로운 입력값이 주어졌을 때 정확한(훌륭한) Y값을 구하는 것이 선형 회귀의 목적이다!"
      ],
      "execution_count": null,
      "outputs": [
        {
          "output_type": "stream",
          "text": [
            "8\n"
          ],
          "name": "stdout"
        }
      ]
    },
    {
      "cell_type": "code",
      "metadata": {
        "colab": {
          "base_uri": "https://localhost:8080/",
          "height": 829
        },
        "id": "nWLV_MKb2ch1",
        "outputId": "c556684b-4cec-4bcc-9738-eb10300459a9"
      },
      "source": [
        "from sklearn.linear_model import LinearRegression\n",
        "import matplotlib.pyplot as plt\n",
        "import numpy as np\n",
        "\n",
        "#10개의 과제 기본점수 50점 예제 \n",
        "\n",
        "X = [3, 4, 5, 1, 2, 7, 8, 9, 10]\n",
        "Y = [65, 70, 75, 55, 60, 85, 90, 95, 100]\n",
        "\n",
        "X = np.asarray(X)\n",
        "X = X.reshape(-1,1)\n",
        "print(X)\n",
        "\n",
        "line_fitter = LinearRegression()\n",
        "line_fitter.fit(X,Y)\n",
        "\n",
        "print(line_fitter.predict([[6]]))\n",
        "\n",
        "print(\"기울기 a값 :\",line_fitter.coef_)\n",
        "print(\"절편 b값 : \",line_fitter.intercept_)\n",
        "\n"
      ],
      "execution_count": null,
      "outputs": [
        {
          "output_type": "stream",
          "text": [
            "[[ 3]\n",
            " [ 4]\n",
            " [ 5]\n",
            " [ 1]\n",
            " [ 2]\n",
            " [ 7]\n",
            " [ 8]\n",
            " [ 9]\n",
            " [10]]\n",
            "[80.]\n",
            "기울기 a값 : [5.]\n",
            "절편 b값 :  50.0\n"
          ],
          "name": "stdout"
        },
        {
          "output_type": "display_data",
          "data": {
            "image/png": "[encoded data removed]",
            "text/plain": [
              "<Figure size 720x720 with 1 Axes>"
            ]
          },
          "metadata": {
            "tags": [],
            "needs_background": "light"
          }
        }
      ]
    },
    {
      "cell_type": "code",
      "metadata": {
        "colab": {
          "base_uri": "https://localhost:8080/",
          "height": 885
        },
        "id": "IW7fiasm745s",
        "outputId": "730c26de-e01f-48ea-aecc-cd737b25802c"
      },
      "source": [
        "from sklearn.linear_model import LinearRegression\n",
        "import matplotlib.pyplot as plt\n",
        "import numpy as np\n",
        "import pandas as pd\n",
        "\n",
        "score_df = pd.read_csv(\"https://raw.githubusercontent.com/CarlosQuperman/2021KangwonAIT/main/score.csv\")\n",
        "print(score_df.info())\n",
        "score_df.head()\n",
        "\n",
        "X = score_df[['수행1','수행2','수행3','지필']]\n",
        "Y = score_df[['총점']]\n",
        "\n",
        "line_fitter = LinearRegression()\n",
        "line_fitter.fit(X,Y)\n",
        "\n",
        "print(\"기울기 a값 :\",line_fitter.coef_)\n",
        "print(\"절편 b값 : \",line_fitter.intercept_)\n",
        "\n",
        "plt.figure(figsize=(10,10))\n",
        "plt.title(\"Score LinearRegression\")\n",
        "plt.scatter(X['수행1'],Y)\n",
        "plt.show()\n",
        "\n",
        "\n"
      ],
      "execution_count": null,
      "outputs": [
        {
          "output_type": "stream",
          "text": [
            "<class 'pandas.core.frame.DataFrame'>\n",
            "RangeIndex: 102 entries, 0 to 101\n",
            "Data columns (total 5 columns):\n",
            " #   Column  Non-Null Count  Dtype  \n",
            "---  ------  --------------  -----  \n",
            " 0   수행1     102 non-null    int64  \n",
            " 1   수행2     102 non-null    int64  \n",
            " 2   수행3     102 non-null    int64  \n",
            " 3   지필      102 non-null    float64\n",
            " 4   총점      102 non-null    float64\n",
            "dtypes: float64(2), int64(3)\n",
            "memory usage: 4.1 KB\n",
            "None\n",
            "기울기 a값 : [[0.2 0.2 0.2 0.4]]\n",
            "절편 b값 :  [0.]\n"
          ],
          "name": "stdout"
        },
        {
          "output_type": "display_data",
          "data": {
            "image/png": "[encoded data removed]",
            "text/plain": [
              "<Figure size 720x720 with 1 Axes>"
            ]
          },
          "metadata": {
            "tags": [],
            "needs_background": "light"
          }
        }
      ]
    }
  ]
}