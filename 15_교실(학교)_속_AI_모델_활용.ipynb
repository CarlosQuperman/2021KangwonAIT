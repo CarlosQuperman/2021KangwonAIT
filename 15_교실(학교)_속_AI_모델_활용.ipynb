{
  "nbformat": 4,
  "nbformat_minor": 0,
  "metadata": {
    "colab": {
      "name": "15. 교실(학교) 속 AI 모델 활용",
      "provenance": [],
      "collapsed_sections": []
    },
    "kernelspec": {
      "name": "python3",
      "display_name": "Python 3"
    },
    "language_info": {
      "name": "python"
    }
  },
  "cells": [
    {
      "cell_type": "markdown",
      "metadata": {
        "id": "MMrP_C4sSqWD"
      },
      "source": [
        "### 데이터 전처리\n",
        "\n",
        "- 일반적인 데이터 프로그래밍은 물론 AI 모델 학습 시에 해결하고자 하는 문제의 특성에 따라 처리하는 작업이 반드시 필요하다.\n",
        "- 스프레드시트 프로그램을 활용하여 처리할 수도 있지만\n",
        "- 원본 파일을 건드리지 않고 다양하게 전처리가 가능하다는 점, 다양한 세부 조건에 따라 처리가 가능하다는 점이 프로그래밍을 활용한 데이터 전처리의 강점이다.\n",
        "- 강원도 제과제빵업 인허가 데이터를 활용한 데이터 전처리 과정을 수행해보자."
      ]
    },
    {
      "cell_type": "code",
      "metadata": {
        "colab": {
          "base_uri": "https://localhost:8080/"
        },
        "id": "mStelhUbm3iY",
        "outputId": "a10bf0ea-db47-4a89-fc8e-189d3c3aed6c"
      },
      "source": [
        "from google.colab import drive\n",
        "drive.mount('/content/gdrive')"
      ],
      "execution_count": null,
      "outputs": [
        {
          "output_type": "stream",
          "text": [
            "Drive already mounted at /content/gdrive; to attempt to forcibly remount, call drive.mount(\"/content/gdrive\", force_remount=True).\n"
          ],
          "name": "stdout"
        }
      ]
    },
    {
      "cell_type": "code",
      "metadata": {
        "id": "YrW6lAJZQQLa"
      },
      "source": [
        "import pandas as pd\n",
        "\n",
        "pd.set_option('display.max_rows', None) #줄이 생략되지 않은 상태로 출력하는 코드\n",
        "\n",
        "bread_df = pd.read_csv(\"https://raw.githubusercontent.com/CarlosQuperman/2021KangwonAIT/main/Kang(BBang).csv\")\n",
        "#bread_df2 = pd.read_csv(\"\")\n",
        "\n",
        "bread_df.info()\n",
        "print(bread_df.head())\n"
      ],
      "execution_count": null,
      "outputs": []
    },
    {
      "cell_type": "code",
      "metadata": {
        "id": "ikIrrPg5TD-b"
      },
      "source": [
        "cols = ['상세영업상태명','사업장명','소재지도로명주소','경도','위도']\n",
        "\n",
        "bread_df = bread_df[].copy()\n",
        "#bread_df.fillna(0)\n",
        "bread_df.info()\n"
      ],
      "execution_count": null,
      "outputs": []
    },
    {
      "cell_type": "code",
      "metadata": {
        "id": "e5mdUZLnTd3O"
      },
      "source": [
        "flag1 = bread_df['상세영업상태명']=='영업'\n",
        "flag2 = bread_df['']==''\n",
        "\n",
        "bread_df_active = bread_df[].copy()\n",
        "bread_df_deactive = bread_df[].copy()\n",
        "\n",
        "print(bread_df_active.info())\n",
        "print(bread_df_deactive.info())\n",
        "\n",
        "bread_df_active.to_csv('',index=False,encoding='utf-8-sig')\n",
        "bread_df_deactive.to_csv('',index=False,encoding='utf-8-sig')"
      ],
      "execution_count": null,
      "outputs": []
    }
  ]
}